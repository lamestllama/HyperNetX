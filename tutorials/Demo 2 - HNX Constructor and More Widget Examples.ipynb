{
 "cells": [
  {
   "cell_type": "markdown",
   "metadata": {},
   "source": [
    "# Prerequisites\n",
    "\n",
    "This notebook requires the hnxwidget package; please install by running:\n",
    "\n",
    "```pip install hnxwidget jupyter_contrib_nbextensions jupyter_nbextensions_configurator```\n",
    "\n",
    "# HNX Constructor and Widget Examples\n",
    "\n",
    "Unlike the tutorials, this is an interactive demo to get you acquainted with the constructor options and how to use the widget. **Hover over the nodes and edges each time you run the widget to see how properties enhance the visual information.**"
   ]
  },
  {
   "cell_type": "code",
   "execution_count": null,
   "metadata": {
    "scrolled": true
   },
   "outputs": [],
   "source": [
    "from collections import defaultdict\n",
    "import matplotlib.pyplot as plt\n",
    "import networkx as nx\n",
    "import hypernetx as hnx\n",
    "import pandas as pd\n",
    "import numpy as np\n",
    "import warnings\n",
    "\n",
    "warnings.simplefilter('ignore')\n",
    "\n",
    "try:\n",
    "    from hnxwidget import HypernetxWidget as HW\n",
    "except:\n",
    "    print(\"Required dependencies not installed. To install, please run: pip install hnxwidget jupyter_contrib_nbextensions jupyter_nbextensions_configurator\")\n"
   ]
  },
  {
   "cell_type": "code",
   "execution_count": null,
   "metadata": {},
   "outputs": [],
   "source": [
    "def checkplts(h):\n",
    "    fig,ax = plt.subplots(1,2,figsize=(15,6))\n",
    "    hnx.draw(h,ax=ax[0])\n",
    "    ax[0].set_title('Hypergraph',fontsize=15)\n",
    "    hnx.draw(h.dual(),ax=ax[1])\n",
    "    ax[1].set_title('Dual',fontsize=15)\n"
   ]
  },
  {
   "cell_type": "markdown",
   "metadata": {},
   "source": [
    "## Set Systems \n",
    "The next 2 cells construct the necessary dictionaries and dataframes to run the demo."
   ]
  },
  {
   "cell_type": "code",
   "execution_count": null,
   "metadata": {
    "code_folding": []
   },
   "outputs": [],
   "source": [
    "### numpy array, single property dict - uncomment np.random.seed for consistent results\n",
    "# np.random.seed(0)\n",
    "npcol1 = np.random.choice(list(\"ABCD\"),50)\n",
    "npcol2 = np.random.choice(list(\"abcdefghijklmnopqrstuvwxyz\"),50)\n",
    "\n",
    "npdata = np.array([npcol1,npcol2]).T\n",
    "npedge_col = 'Club'\n",
    "npnode_col = 'Member'\n",
    "\n",
    "npproperties = {k :{'affiliation': np.random.choice(['red','green'])} for k in np.concatenate([npcol1,npcol2])}"
   ]
  },
  {
   "cell_type": "code",
   "execution_count": null,
   "metadata": {
    "code_folding": [],
    "scrolled": false
   },
   "outputs": [],
   "source": [
    "## LesMis data as dictionaries and dataframes - uses LesMis class in utils.toys\n",
    "## Uncomment np.random.seed for consistent results\n",
    "# np.random.seed(0)\n",
    "from hypernetx.utils.toys import lesmis as lm\n",
    "np.random.seed(0)\n",
    "LM = lm.LesMis()\n",
    "## dict\n",
    "scenes = {\n",
    "    0: ('FN', 'TH'),\n",
    "    1: ('TH', 'JV'),\n",
    "    2: ('BM', 'FN', 'JA'),\n",
    "    3: ('JV', 'JU', 'CH', 'BM'),\n",
    "    4: ('JU', 'CH', 'BR', 'CN', 'CC', 'JV', 'BM'),\n",
    "    5: ('TH', 'GP'),\n",
    "    6: ('GP', 'MP'),\n",
    "    7: ('MA', 'GP'),\n",
    "}\n",
    "\n",
    "### Nested dict with cell_properties\n",
    "scenes_with_cellprops = {ed: {ch: {'color':np.random.choice(['red','green']),'cell_weight':np.random.rand()} \n",
    "                         for ch in v} for ed,v in scenes.items()}\n",
    "\n",
    "### Pandas dataframe\n",
    "scenes_df = pd.DataFrame(pd.Series(scenes).explode()).reset_index().rename(columns={'index':'Scenes', \n",
    "                                                                                           0:'Characters'})\n",
    "### Dataframe with cell properties\n",
    "scenes_dataframe = scenes_df.copy()\n",
    "scenes_dataframe['color'] = np.random.choice(['red','green'],len(scenes_dataframe))\n",
    "scenes_dataframe['heaviness'] = np.random.rand(len(scenes_dataframe))\n",
    "\n",
    "\n",
    "### Node and edge property data\n",
    "nodes = list(set(list(np.concatenate([v for v in scenes.values()]))))\n",
    "edges = list(set(list(scenes.keys())))\n",
    "node_properties = {ch: {'FullName': LM.dnames.loc[ch].FullName,                               \n",
    "                        'Description': LM.dnames.loc[ch].Description,\n",
    "                       'color':np.random.choice(['pink','lightblue'])} for ch in nodes}\n",
    "node_props_df = pd.DataFrame.from_dict(node_properties,orient='index')\n",
    "default_node_weight = 10\n",
    "\n",
    "### These edge properties will have missing weights so \n",
    "### will be filled by constructor with default_edge_weight\n",
    "edge_properties = defaultdict(dict)\n",
    "edge_properties.update({ed:{'weight':np.random.randint(2,10)} for ed in range(0,8,2)})\n",
    "for ed in edges:\n",
    "    edge_properties[ed].update({'color':np.random.choice(['red','green'])})\n",
    "default_edge_weight = 2\n",
    "\n",
    "properties = [{'id':nd,\n",
    "               'color':np.random.choice(['red','blue','green','yellow']),\n",
    "               'weight': np.round(np.random.rand(),3)}\n",
    "              for nd in nodes+edges]\n",
    "properties = pd.DataFrame(properties)\n"
   ]
  },
  {
   "cell_type": "markdown",
   "metadata": {},
   "source": [
    "## Hypergraphs without properties"
   ]
  },
  {
   "cell_type": "code",
   "execution_count": null,
   "metadata": {},
   "outputs": [],
   "source": [
    "def test(H):\n",
    "    edge = list(H.edges)[0]\n",
    "    node = H.edges[edge][0]\n",
    "    pair = (edge,node)\n",
    "    return {'pair' : pair,\n",
    "            'nodes' : list(H.nodes)[:5],\n",
    "            'edges' : list(H.edges)[:5],\n",
    "            'diameter': H.diameter(),\n",
    "            'edge_diameter' : H.edge_diameter(),\n",
    "            'linegraph': H.get_linegraph(1).edges(), \n",
    "            'info' : hnx.info_dict(H),\n",
    "            'get_cell_property' : H.edges.get_cell_properties(edge,node)}\n"
   ]
  },
  {
   "cell_type": "markdown",
   "metadata": {},
   "source": [
    "#### Numpy Arrays"
   ]
  },
  {
   "cell_type": "code",
   "execution_count": null,
   "metadata": {
    "scrolled": false
   },
   "outputs": [],
   "source": [
    "### With no data and dictionaries, constructor works as before but will now accept \n",
    "### n x 2 dimensional Numpy ndarrays.\n",
    "H1 = hnx.Hypergraph(npdata)\n",
    "test(H1)"
   ]
  },
  {
   "cell_type": "code",
   "execution_count": null,
   "metadata": {},
   "outputs": [],
   "source": [
    "checkplts(H1)"
   ]
  },
  {
   "cell_type": "markdown",
   "metadata": {},
   "source": [
    "#### Pandas DataFrames"
   ]
  },
  {
   "cell_type": "code",
   "execution_count": null,
   "metadata": {
    "scrolled": false
   },
   "outputs": [],
   "source": [
    "scenes_dataframe[:5]"
   ]
  },
  {
   "cell_type": "code",
   "execution_count": null,
   "metadata": {
    "scrolled": true
   },
   "outputs": [],
   "source": [
    "## dataframes will by default use the first two columns for (edge,node) pairs \n",
    "### but different columns may be specified using the edge_col and node_col keywords\n",
    "H2 = hnx.Hypergraph(scenes_dataframe)\n",
    "checkplts(H2)"
   ]
  },
  {
   "cell_type": "code",
   "execution_count": null,
   "metadata": {},
   "outputs": [],
   "source": [
    "H2 = hnx.Hypergraph(scenes_dataframe,edge_col='Characters',node_col='Scenes')\n",
    "checkplts(H2)"
   ]
  },
  {
   "cell_type": "markdown",
   "metadata": {},
   "source": [
    "## Hypergraphs from setsytems with cell properties"
   ]
  },
  {
   "cell_type": "code",
   "execution_count": null,
   "metadata": {},
   "outputs": [],
   "source": [
    "def testp(H):\n",
    "    edge = list(H.edges)[0]\n",
    "    node = H.edges[edge][0]\n",
    "    pair = (edge,node)\n",
    "    HD = H.dual()\n",
    "    return {\n",
    "            'pair' : pair,\n",
    "            'single_cell_property' : H.get_cell_properties(edge,node),\n",
    "            'single_cell_weight' : H.get_cell_properties(edge,node,H._cell_weight_col),\n",
    "            'single_dual_cell_property' : HD.get_cell_properties(node,edge),\n",
    "            'neighbors' : H.neighbors(node),\n",
    "            'edge_neighbors': H.edge_neighbors(edge),\n",
    "            'line_graph': H.get_linegraph(edges=True)\n",
    "            }"
   ]
  },
  {
   "cell_type": "markdown",
   "metadata": {},
   "source": [
    "### Dataframes with properties"
   ]
  },
  {
   "cell_type": "code",
   "execution_count": null,
   "metadata": {
    "scrolled": true
   },
   "outputs": [],
   "source": [
    "H3 = hnx.Hypergraph(scenes_dataframe,\n",
    "                   cell_properties=['color'],\n",
    "                   cell_weight_col='heaviness',\n",
    "                  node_properties=node_properties,\n",
    "                  edge_properties=edge_properties)\n",
    "testp(H3)"
   ]
  },
  {
   "cell_type": "code",
   "execution_count": null,
   "metadata": {},
   "outputs": [],
   "source": [
    "H3.incidence_matrix(weights=True).todense()"
   ]
  },
  {
   "cell_type": "markdown",
   "metadata": {},
   "source": [
    "### Add object properties\n",
    "Hover over nodes and edges in the widget to see their properties"
   ]
  },
  {
   "cell_type": "code",
   "execution_count": null,
   "metadata": {},
   "outputs": [],
   "source": [
    "H4 = hnx.Hypergraph(scenes_dataframe,\n",
    "                   cell_properties=['color'],\n",
    "                   cell_weight_col='heaviness',\n",
    "                  properties=properties,\n",
    "                  weight_col='weight')"
   ]
  },
  {
   "cell_type": "code",
   "execution_count": null,
   "metadata": {},
   "outputs": [],
   "source": [
    "HW(H4)"
   ]
  },
  {
   "cell_type": "code",
   "execution_count": null,
   "metadata": {},
   "outputs": [],
   "source": [
    "H5 = H.remove(['JV',1,2,3])\n",
    "HW(H5)"
   ]
  },
  {
   "cell_type": "code",
   "execution_count": null,
   "metadata": {},
   "outputs": [],
   "source": [
    "### Line Graphs persist properties as well"
   ]
  },
  {
   "cell_type": "code",
   "execution_count": null,
   "metadata": {
    "scrolled": true
   },
   "outputs": [],
   "source": [
    "h = H4 ## Try with H3\n",
    "G1 = h.get_linegraph()\n",
    "G2 = h.get_linegraph(edges=False)\n",
    "nxncolors = [h.nodes[nd].color for nd in G2.nodes]\n",
    "nxecolors = [h.edges[nd].color for nd in G1.nodes]\n",
    "fig,ax = plt.subplots(1,2,figsize=(15,7))\n",
    "nx.draw_networkx(G1,node_color = nxecolors,ax=ax[0])\n",
    "ax[0].set_title('edge line graph',fontsize=15)\n",
    "ax[0].axis('off')\n",
    "nx.draw_networkx(G2,node_color = nxncolors,ax=ax[1])\n",
    "ax[1].set_title('node line graph',fontsize=15)\n",
    "ax[1].axis('off');"
   ]
  },
  {
   "cell_type": "code",
   "execution_count": null,
   "metadata": {},
   "outputs": [],
   "source": [
    "G1.nodes(data=True)"
   ]
  },
  {
   "cell_type": "code",
   "execution_count": null,
   "metadata": {},
   "outputs": [],
   "source": [
    "G2.nodes(data=True)"
   ]
  },
  {
   "cell_type": "markdown",
   "metadata": {},
   "source": [
    "### Dictionaries with properties"
   ]
  },
  {
   "cell_type": "code",
   "execution_count": null,
   "metadata": {},
   "outputs": [],
   "source": [
    "H5 = hnx.Hypergraph(scenes_with_cellprops,\n",
    "                   edge_col='Scenes',\n",
    "                   node_col='Characters',\n",
    "                   cell_weight_col = 'cell_weight', \n",
    "                   cell_properties=scenes_with_cellprops)\n",
    "testp(H.dual())"
   ]
  },
  {
   "cell_type": "code",
   "execution_count": null,
   "metadata": {
    "scrolled": true
   },
   "outputs": [],
   "source": [
    "checkplts(H5.collapse_nodes())"
   ]
  },
  {
   "cell_type": "code",
   "execution_count": null,
   "metadata": {},
   "outputs": [],
   "source": [
    "H5.incidence_matrix(weights=True).todense()\n"
   ]
  },
  {
   "cell_type": "code",
   "execution_count": null,
   "metadata": {},
   "outputs": [],
   "source": [
    "H5.adjacency_matrix(s=2).todense()"
   ]
  },
  {
   "cell_type": "code",
   "execution_count": null,
   "metadata": {},
   "outputs": [],
   "source": [
    "H5.edge_adjacency_matrix().todense()"
   ]
  },
  {
   "cell_type": "code",
   "execution_count": null,
   "metadata": {},
   "outputs": [],
   "source": [
    "H5.get_cell_properties(0,'FN','color')"
   ]
  },
  {
   "cell_type": "markdown",
   "metadata": {},
   "source": [
    "## Hypergraphs with properties on edges and nodes"
   ]
  },
  {
   "cell_type": "code",
   "execution_count": null,
   "metadata": {
    "scrolled": false
   },
   "outputs": [],
   "source": [
    "H6 = hnx.Hypergraph(\n",
    "    setsystem=scenes_dataframe,\n",
    "    edge_col=\"Scenes\",\n",
    "    node_col=\"Characters\",\n",
    "    cell_weight_col='cell_weight',\n",
    "    cell_properties=['color'],\n",
    "    edge_properties=edge_properties,\n",
    "    node_properties=node_properties,\n",
    "    default_edge_weight=2.5,\n",
    "    default_node_weight=6,\n",
    ")\n",
    "H6.properties"
   ]
  },
  {
   "cell_type": "code",
   "execution_count": null,
   "metadata": {
    "scrolled": false
   },
   "outputs": [],
   "source": [
    "plot = HW(H6,node_fill = {nd:H6.nodes[nd].color for nd in H6.nodes},\n",
    "         edge_stroke = {ed:H6.edges[ed].color for ed in H6.edges},\n",
    "         edge_stroke_width = {ed:12 for ed in H6.edges})\n",
    "plot"
   ]
  },
  {
   "cell_type": "code",
   "execution_count": null,
   "metadata": {},
   "outputs": [],
   "source": [
    "### Properties are preserved when removing or restricting edges or taking toplexes\n",
    "tops = H6.toplexes()\n",
    "HW(tops)"
   ]
  },
  {
   "cell_type": "code",
   "execution_count": null,
   "metadata": {},
   "outputs": [],
   "source": [
    "tops.edges.properties"
   ]
  },
  {
   "cell_type": "markdown",
   "metadata": {},
   "source": [
    "### np array with node and edge data"
   ]
  },
  {
   "cell_type": "code",
   "execution_count": null,
   "metadata": {},
   "outputs": [],
   "source": [
    "npproperties"
   ]
  },
  {
   "cell_type": "code",
   "execution_count": null,
   "metadata": {
    "scrolled": true
   },
   "outputs": [],
   "source": [
    "H7 = hnx.Hypergraph(npdata,\n",
    "                    edge_col=npedge_col,\n",
    "                    node_col=npnode_col,\n",
    "                    properties = npproperties)\n",
    "HW(H7)"
   ]
  },
  {
   "cell_type": "code",
   "execution_count": null,
   "metadata": {
    "scrolled": false
   },
   "outputs": [],
   "source": [
    "HW(H7,node_fill={nd: H7.nodes[nd].affiliation for nd in H7.nodes},\n",
    "      edge_stroke={ed: H7.edges[ed].affiliation for ed in H7.edges})"
   ]
  },
  {
   "cell_type": "markdown",
   "metadata": {},
   "source": [
    "## Hypergraphs with multi-edges\n",
    "HNX distinguishes between edges by their ids, not their contents. This allows for multi-edges\n"
   ]
  },
  {
   "cell_type": "code",
   "execution_count": null,
   "metadata": {},
   "outputs": [],
   "source": [
    "df1 = scenes_df.copy()\n",
    "df1['cell_weights'] = 1\n",
    "df2 = scenes_df.copy()\n",
    "df2.Scenes = df2.Scenes.apply(lambda x : str((x + 8)))\n",
    "\n",
    "## Duplicate edges\n",
    "ndf = pd.concat([df1,df2])\n",
    "## Change an attribute on duplicate edges to try aggregation methods\n",
    "ndf['color'] = np.random.choice(['red','lightblue','green'],len(ndf))"
   ]
  },
  {
   "cell_type": "code",
   "execution_count": null,
   "metadata": {},
   "outputs": [],
   "source": [
    "H8 = hnx.Hypergraph(ndf)\n",
    "HW(H8)"
   ]
  },
  {
   "cell_type": "code",
   "execution_count": null,
   "metadata": {},
   "outputs": [],
   "source": [
    "H9,eclasses = H8.collapse_edges(return_equivalence_classes=True)\n",
    "## equivalence classes for collapsed edges\n",
    "eclasses"
   ]
  },
  {
   "cell_type": "code",
   "execution_count": null,
   "metadata": {},
   "outputs": [],
   "source": [
    "HW(H9)"
   ]
  },
  {
   "cell_type": "markdown",
   "metadata": {},
   "source": [
    "## Restrict_to and Remove \n",
    "\n",
    "The same restriction can be used for remove nodes and restrict_to methods. Depending on the number of objects being restricted to it could be faster to just remove the objects you don't want."
   ]
  },
  {
   "cell_type": "code",
   "execution_count": null,
   "metadata": {},
   "outputs": [],
   "source": [
    "H10 = hnx.Hypergraph(scenes_dataframe,node_properties=node_properties,edge_properties=edge_properties)\n",
    "HW(H10)"
   ]
  },
  {
   "cell_type": "code",
   "execution_count": null,
   "metadata": {
    "scrolled": false
   },
   "outputs": [],
   "source": [
    "HW(H10.restrict_to_nodes(['JV','TH','BM','FN']))"
   ]
  },
  {
   "cell_type": "code",
   "execution_count": null,
   "metadata": {
    "scrolled": false
   },
   "outputs": [],
   "source": [
    "HW(H10.restrict_to_edges([0,1]))"
   ]
  },
  {
   "cell_type": "code",
   "execution_count": null,
   "metadata": {},
   "outputs": [],
   "source": [
    "HW(H10.remove_edges([0,1]))"
   ]
  },
  {
   "cell_type": "code",
   "execution_count": null,
   "metadata": {},
   "outputs": [],
   "source": [
    "### If nodes and edges have distinct id sets a single remove command cat remove both.\n",
    "HW(H10.remove(['JV','TH',2,3]))\n"
   ]
  },
  {
   "cell_type": "code",
   "execution_count": null,
   "metadata": {},
   "outputs": [],
   "source": []
  }
 ],
 "metadata": {
  "kernelspec": {
   "display_name": "Python 3 (ipykernel)",
   "language": "python",
   "name": "python3"
  },
  "language_info": {
   "codemirror_mode": {
    "name": "ipython",
    "version": 3
   },
   "file_extension": ".py",
   "mimetype": "text/x-python",
   "name": "python",
   "nbconvert_exporter": "python",
   "pygments_lexer": "ipython3",
   "version": "3.8.16"
  }
 },
 "nbformat": 4,
 "nbformat_minor": 2
}
