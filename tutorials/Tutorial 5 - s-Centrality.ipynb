{
 "cells": [
  {
   "cell_type": "code",
   "execution_count": null,
   "metadata": {},
   "outputs": [],
   "source": [
    "#!pip install hypernetx"
   ]
  },
  {
   "cell_type": "code",
   "execution_count": null,
   "metadata": {},
   "outputs": [],
   "source": [
    "#!pip install networkx"
   ]
  },
  {
   "cell_type": "code",
   "execution_count": null,
   "metadata": {},
   "outputs": [],
   "source": [
    "import hypernetx as hnx\n",
    "import networkx as nx\n",
    "import numpy as np\n",
    "import matplotlib.pyplot as plt\n",
    "import warnings\n",
    "import warnings\n",
    "warnings.filterwarnings('ignore')"
   ]
  },
  {
   "cell_type": "markdown",
   "metadata": {},
   "source": [
    "## s-centrality metrics\n",
    "\n",
    "<img src=\"images/s-width.png\" width=\"600\" align=\"left\" style=\"margin-right:10px\">\n",
    "\n",
    "Hypergraph metrics generalize traditional graph metrics by including parameters for edge size and edge intersection size. In the figure there are two hypergraphs. Each illustrates an edge path of length 2, connecting Blue, Orange, and Green. The path in hypergraph I. has *width* 1, while the path in hypergraph II. has *width* 3. The width of an edge path is the size of the smallest intersection.\n",
    "\n",
    "While graphs use shortest paths to define a distance metric, hypergraphs can stipulate a width parameter **s** to the shortest path. The edge s-distance between two edges is the shortest path of width **s** between the edges. The s-distance between two nodes has an analogous definition replacing the size of edge intersection with the number of shared edges between consecutive nodes. Because the intuition around edge s-distance seems more natural than node distance we will refer to s-distance in terms of edges unless stated otherwise and use the dual of the hypergraph when considering the s-distance between nodes.\n",
    "\n",
    "For a detailed exposition of s-distance metrics and hypergraph walks in general see: \n",
    "<a href=\"https://doi.org/10.1140/epjds/s13688-020-00231-0\">Aksoy, S.G., Joslyn, C., Ortiz Marrero, C. et al. Hypernetwork science via high-order hypergraph walks. EPJ Data Sci. 9, 16 (2020).</a>   \n",
    "\n",
    "In this tutorial we will provide just enough information to provide some intuition about the s-parameter and s-metrics. As described above, s-distance is a true metric on the edges of a hypergraph. We use s-distance to define s-connectedness, s-centrality as well as other analogs to well known graph concepts.  \n",
    "\n"
   ]
  },
  {
   "cell_type": "markdown",
   "metadata": {},
   "source": [
    "## Example\n",
    "We illustrate the s-centrality metrics on a simple example. We construct a hypergraph $H$ with 6 nodes and 5 edges and compute the s-centralities for the edges in $H$."
   ]
  },
  {
   "cell_type": "code",
   "execution_count": null,
   "metadata": {},
   "outputs": [],
   "source": [
    "class SixByFive():\n",
    "    \"\"\"Example hypergraph with 6 nodes and 5 edges\"\"\"\n",
    "    def __init__(self):\n",
    "        mat = np.array([[1, 1, 1, 0, 0, 0], [1, 0, 1, 0, 1, 0], [1, 1, 0, 0, 1, 1], [0, 1, 1, 1, 0, 0], [1, 1, 1, 1, 0, 0]]).transpose()\n",
    "        self.hypergraph = hnx.Hypergraph.from_numpy_array(mat)\n",
    "\n",
    "H = SixByFive().hypergraph\n",
    "hnx.draw(H)\n"
   ]
  },
  {
   "cell_type": "markdown",
   "metadata": {},
   "source": [
    "### Edge s-line graphs for s=1,2,3"
   ]
  },
  {
   "cell_type": "code",
   "execution_count": null,
   "metadata": {},
   "outputs": [],
   "source": [
    "fig,ax = plt.subplots(1,3,figsize=(15,6))\n",
    "A = dict()\n",
    "g = dict()\n",
    "for i in range(1,4):\n",
    "    A[i],names = H.edge_adjacency_matrix(s=i,index=True)\n",
    "    A[i] = A[i].todense()\n",
    "    g[i] = nx.from_numpy_matrix(A[i])  ## corresponding line graph\n",
    "    nx.relabel.relabel_nodes(g[i],names,copy=False)\n",
    "    ax[i-1].set_title(f's={i}')\n",
    "    nx.draw(g[i],ax=ax[i-1],with_labels=True, node_color='cyan');\n"
   ]
  },
  {
   "cell_type": "markdown",
   "metadata": {},
   "source": [
    "**Note the differences between the three linegraphs. The 1-linegraph is uniform so all vertices have equal centrality. The 2-linegraph has two vertices, e0 and e4, that are minimally central to all other vertices and 3 vertices that are more removed. The 3-linegraph has only 1 vertex, e4, with any significant centrality in the linegraph. These differences are noted in the s-centrality metrics below.**"
   ]
  },
  {
   "cell_type": "markdown",
   "metadata": {},
   "source": [
    "## s-closeness centrality - \n",
    "If $u$ is a vertex in one of the s-line graphs above, the s-closeness centrality is computed on each of the connected components\n",
    "\n",
    "$V$ = the set of vertices in the linegraph.  \n",
    "$n = |V|$\n",
    "$$C(u) = \\frac{n - 1}{\\sum_{v \\neq u \\in V} d(v, u)}$$\n"
   ]
  },
  {
   "cell_type": "code",
   "execution_count": null,
   "metadata": {},
   "outputs": [],
   "source": [
    "for s in range(1,4):\n",
    "    print(f'The {s}-closeness centrality of the edges in hypergraph H is:')\n",
    "    d = hnx.s_closeness_centrality(H,s=s)\n",
    "    for e in H.edges:\n",
    "        print(f'{e}: {d[e]}')\n",
    "    print('\\n')"
   ]
  },
  {
   "cell_type": "markdown",
   "metadata": {},
   "source": [
    "## s-harmonic centrality - \n",
    "\n",
    "The denormalized reciprocal of the harmonic mean of all distances from $u$ to all other vertices.  \n",
    "$V$ = the set of vertices in the linegraph.\n",
    "$$C(u) = \\sum_{v \\neq u \\in V} \\frac{1}{d(v, u)}$$\n",
    "\n",
    "Normalized this becomes:\n",
    "$$C(u) = \\sum_{v \\neq u \\in V} \\frac{1}{d(v, u)}\\cdot\\frac{2}{(n-1)(n-2)}$$\n",
    "where $n$ is the number vertices."
   ]
  },
  {
   "cell_type": "code",
   "execution_count": null,
   "metadata": {},
   "outputs": [],
   "source": [
    "## \n",
    "for s in range(1,4):\n",
    "    print(f'The {s}-harmonic closeness centrality of the edges in hypergraph H is:')\n",
    "    d = hnx.s_harmonic_centrality(H,s=s, normalized=True)\n",
    "    for e in H.edges:\n",
    "        print(f'{e}: {d[e]}')\n",
    "    print('\\n')"
   ]
  },
  {
   "cell_type": "markdown",
   "metadata": {},
   "source": [
    "## s-eccentricity -\n",
    "The length of the longest shortest path from a vertex $u$ to every other vertex in the linegraph.  \n",
    "$V$ = set of vertices in the linegraph\n",
    "$$ \\text{s-ecc}(u) = \\text{max}\\{d(u,v): v \\in V\\} $$"
   ]
  },
  {
   "cell_type": "code",
   "execution_count": null,
   "metadata": {},
   "outputs": [],
   "source": [
    "## Max s-distance from every other edge\n",
    "for s in range(1,4):\n",
    "    print(f'The {s}-eccentricity of the edges in hypergraph H is:')\n",
    "    d = hnx.s_eccentricity(H,s=s)\n",
    "    for e in H.edges:\n",
    "        print(f'{e}: {d[e]}')\n",
    "    print('\\n')"
   ]
  },
  {
   "cell_type": "markdown",
   "metadata": {},
   "source": [
    "## s-betweenness centrality\n",
    "The centrality of edge to all shortest s-edge paths\n",
    "$V$ = the set of vertices in the linegraph.  \n",
    "$\\sigma(s,t)$ = the number of shortest paths between vertices $s$ and $t$.  \n",
    "$\\sigma(s, t|u)$ = the number of those paths that pass through vertex $u$\n",
    "$$c_B(u) =\\sum_{s \\neq t \\in V} \\frac{\\sigma(s, t|u)}{\\sigma(s, t)}$$"
   ]
  },
  {
   "cell_type": "code",
   "execution_count": null,
   "metadata": {},
   "outputs": [],
   "source": [
    "for s in range(1,4):\n",
    "    print(f'The {s}-betweenness of the edges in hypergraph H is:')\n",
    "    d = hnx.s_betweenness_centrality(H, s=s, normalized=False)\n",
    "    for e in H.edges:\n",
    "        print(f'{e}: {d[e]}')\n",
    "    print('\\n')\n"
   ]
  }
 ],
 "metadata": {
  "kernelspec": {
   "display_name": "Python 3 (ipykernel)",
   "language": "python",
   "name": "python3"
  },
  "language_info": {
   "codemirror_mode": {
    "name": "ipython",
    "version": 3
   },
   "file_extension": ".py",
   "mimetype": "text/x-python",
   "name": "python",
   "nbconvert_exporter": "python",
   "pygments_lexer": "ipython3",
   "version": "3.8.16"
  }
 },
 "nbformat": 4,
 "nbformat_minor": 4
}
